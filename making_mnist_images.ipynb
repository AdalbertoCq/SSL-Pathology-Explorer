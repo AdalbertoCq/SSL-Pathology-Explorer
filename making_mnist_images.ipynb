{
 "cells": [
  {
   "cell_type": "code",
   "execution_count": 72,
   "metadata": {
    "scrolled": true
   },
   "outputs": [],
   "source": [
    "from PIL import Image\n",
    "import matplotlib.pyplot as plt\n",
    "import numpy as np\n",
    "import math\n",
    "import numpy\n",
    "import h5py\n",
    "import PIL\n"
   ]
  },
  {
   "cell_type": "code",
   "execution_count": 154,
   "metadata": {},
   "outputs": [],
   "source": [
    "h5_file_path = '/media/adalberto/Disk2/SSL-Pathology-Explorer/data_example/hdf5_epoch_40_projected_images.h5'\n",
    "content = h5py.File(h5_file_path)\n",
    "embedding = content['z_representation']\n",
    "images    = content['images']\n"
   ]
  },
  {
   "cell_type": "code",
   "execution_count": 143,
   "metadata": {
    "scrolled": true
   },
   "outputs": [],
   "source": [
    "compression_rate = 4\n",
    "image_height = int(images.shape[1]/compression_rate)\n",
    "image_width  = int(images.shape[2]/compression_rate)\n",
    "ss_width = image_width*20\n",
    "columns = math.floor(ss_width/image_width)"
   ]
  },
  {
   "cell_type": "code",
   "execution_count": 144,
   "metadata": {},
   "outputs": [],
   "source": [
    "all_rows = []\n",
    "for i in range(len(images)):\n",
    "    if i % columns == 0:\n",
    "        all_rows.append([])\n",
    "    current = all_rows[len(all_rows) - 1]\n",
    "    current.append(images[i][::compression_rate, ::compression_rate, :])"
   ]
  },
  {
   "cell_type": "code",
   "execution_count": 145,
   "metadata": {},
   "outputs": [],
   "source": [
    "ranges = []\n",
    "for i in range(math.ceil(len(all_rows) / columns)):\n",
    "    start = i * columns\n",
    "    end = (i + 1) * columns\n",
    "    if i == math.ceil(len(all_rows) / columns) - 1:\n",
    "        end = len(all_rows)\n",
    "    ranged = range(start, end)\n",
    "    ranges.append(ranged)"
   ]
  },
  {
   "cell_type": "code",
   "execution_count": 146,
   "metadata": {
    "scrolled": true
   },
   "outputs": [
    {
     "data": {
      "text/plain": [
       "[range(0, 20),\n",
       " range(20, 40),\n",
       " range(40, 60),\n",
       " range(60, 80),\n",
       " range(80, 100),\n",
       " range(100, 120),\n",
       " range(120, 140),\n",
       " range(140, 160),\n",
       " range(160, 180),\n",
       " range(180, 200),\n",
       " range(200, 220),\n",
       " range(220, 240),\n",
       " range(240, 260),\n",
       " range(260, 280),\n",
       " range(280, 300),\n",
       " range(300, 320),\n",
       " range(320, 340),\n",
       " range(340, 360),\n",
       " range(360, 380),\n",
       " range(380, 400),\n",
       " range(400, 420),\n",
       " range(420, 440),\n",
       " range(440, 460),\n",
       " range(460, 480),\n",
       " range(480, 500)]"
      ]
     },
     "execution_count": 146,
     "metadata": {},
     "output_type": "execute_result"
    }
   ],
   "source": [
    "ranges"
   ]
  },
  {
   "cell_type": "code",
   "execution_count": 147,
   "metadata": {},
   "outputs": [
    {
     "data": {
      "text/plain": [
       "25"
      ]
     },
     "execution_count": 147,
     "metadata": {},
     "output_type": "execute_result"
    }
   ],
   "source": [
    "len(ranges)"
   ]
  },
  {
   "cell_type": "code",
   "execution_count": 148,
   "metadata": {
    "scrolled": true
   },
   "outputs": [
    {
     "data": {
      "text/plain": [
       "[]"
      ]
     },
     "execution_count": 148,
     "metadata": {},
     "output_type": "execute_result"
    }
   ],
   "source": [
    "leftover = ss_width % columns\n",
    "row_padding = []\n",
    "for i in range(leftover):\n",
    "    row_padding.append(0)\n",
    "row_padding"
   ]
  },
  {
   "cell_type": "code",
   "execution_count": 149,
   "metadata": {
    "scrolled": true
   },
   "outputs": [
    {
     "data": {
      "text/plain": [
       "0"
      ]
     },
     "execution_count": 149,
     "metadata": {},
     "output_type": "execute_result"
    }
   ],
   "source": [
    "chunk_padding = []\n",
    "for i in range(ss_width - columns * image_height):\n",
    "    chunk_padding.append([])\n",
    "    current = chunk_padding[len(chunk_padding) - 1]\n",
    "    for p in range(ss_width):\n",
    "        current.append(0)\n",
    "len(chunk_padding)"
   ]
  },
  {
   "cell_type": "code",
   "execution_count": 150,
   "metadata": {
    "scrolled": false
   },
   "outputs": [
    {
     "data": {
      "text/plain": [
       "20"
      ]
     },
     "execution_count": 150,
     "metadata": {},
     "output_type": "execute_result"
    }
   ],
   "source": [
    "len(all_rows[0])"
   ]
  },
  {
   "cell_type": "code",
   "execution_count": 151,
   "metadata": {},
   "outputs": [
    {
     "data": {
      "text/plain": [
       "0"
      ]
     },
     "execution_count": 151,
     "metadata": {},
     "output_type": "execute_result"
    }
   ],
   "source": [
    "ss_width - len(ranges[0]) * image_width"
   ]
  },
  {
   "cell_type": "code",
   "execution_count": 152,
   "metadata": {
    "scrolled": false
   },
   "outputs": [],
   "source": [
    "for range_counter in range(len(ranges)):\n",
    "    full_combined = []\n",
    "    for r in ranges[range_counter]:\n",
    "        row_digits = all_rows[r]\n",
    "        reshaped = []\n",
    "        for i in range(len(row_digits)):\n",
    "            digit = row_digits[i]\n",
    "#             digit = digit.reshape((28,28))\n",
    "            reshaped.append(digit)\n",
    "        combined = []\n",
    "        for i in range(image_height):\n",
    "            combined.append([])\n",
    "            current = combined[len(combined) - 1]\n",
    "            for j in range(len(row_digits)):\n",
    "                current.extend(reshaped[j][i])\n",
    "            padding_needed = ss_width - len(row_digits) * image_width\n",
    "            for p in range(padding_needed):\n",
    "                current.append(0)\n",
    "        full_combined.extend(combined)\n",
    "    row_padding_needed = ss_width - len(full_combined)\n",
    "    wtf = row_padding_needed\n",
    "    for rp in range(row_padding_needed):\n",
    "        current = []\n",
    "        for p in range(ss_width):\n",
    "            current.append(0)\n",
    "        full_combined.append(current)\n",
    "    test = full_combined\n",
    "    rgba_combined = []\n",
    "    for row in full_combined:\n",
    "        rgba_combined.append([])\n",
    "        current = rgba_combined[len(rgba_combined) - 1]\n",
    "        for item in row:\n",
    "            current.append((item[0], item[1], item[2]))\n",
    "    rgba_combined = numpy.asarray(rgba_combined)\n",
    "    rgba_combined = rgba_combined.astype(numpy.uint8)\n",
    "    im = Image.fromarray(numpy.asarray(rgba_combined), mode='RGB')\n",
    "    name = 'mnist_tile_solid_' + str(range_counter) + '.png'\n",
    "    im.save(name)\n"
   ]
  },
  {
   "cell_type": "code",
   "execution_count": 156,
   "metadata": {},
   "outputs": [],
   "source": [
    "import json\n",
    "with open('mnist-embeddings.json', 'w') as outfile:\n",
    "    json.dump(embedding[:].tolist(), outfile)"
   ]
  },
  {
   "cell_type": "code",
   "execution_count": 157,
   "metadata": {},
   "outputs": [],
   "source": [
    "labels = [0]*embedding.shape[0]\n",
    "with open('mnist_labels.json', 'w') as outfile:\n",
    "    json.dump(labels, outfile)"
   ]
  },
  {
   "cell_type": "code",
   "execution_count": null,
   "metadata": {},
   "outputs": [],
   "source": []
  }
 ],
 "metadata": {
  "kernelspec": {
   "display_name": "Python 3",
   "language": "python",
   "name": "python3"
  },
  "language_info": {
   "codemirror_mode": {
    "name": "ipython",
    "version": 3
   },
   "file_extension": ".py",
   "mimetype": "text/x-python",
   "name": "python",
   "nbconvert_exporter": "python",
   "pygments_lexer": "ipython3",
   "version": "3.7.9"
  }
 },
 "nbformat": 4,
 "nbformat_minor": 2
}
